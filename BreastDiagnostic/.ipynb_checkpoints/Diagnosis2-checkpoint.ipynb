{
 "cells": [
  {
   "cell_type": "code",
   "execution_count": 1,
   "id": "42b5af61-8260-466e-be6c-b7e72c7d8b5b",
   "metadata": {},
   "outputs": [],
   "source": [
    "import warnings"
   ]
  },
  {
   "cell_type": "code",
   "execution_count": 2,
   "id": "b5f9ac25-68a8-4b85-a303-eb3e2d86096b",
   "metadata": {},
   "outputs": [],
   "source": [
    "warnings.filterwarnings('ignore')"
   ]
  },
  {
   "cell_type": "code",
   "execution_count": 3,
   "id": "68a40b77-da46-4116-a866-e0b4016943cc",
   "metadata": {},
   "outputs": [
    {
     "name": "stdout",
     "output_type": "stream",
     "text": [
      "         ID Diagnosis  Radius_mean  Texture_mean  Perimeter_mean  Area_mean  \\\n",
      "0    842302         M        17.99         10.38          122.80     1001.0   \n",
      "1    842517         M        20.57         17.77          132.90     1326.0   \n",
      "2  84300903         M        19.69         21.25          130.00     1203.0   \n",
      "3  84348301         M        11.42         20.38           77.58      386.1   \n",
      "4  84358402         M        20.29         14.34          135.10     1297.0   \n",
      "\n",
      "   Smoothness_mean  Compactness_mean  Concavity_mean  Concave_points_mean  \\\n",
      "0          0.11840           0.27760          0.3001              0.14710   \n",
      "1          0.08474           0.07864          0.0869              0.07017   \n",
      "2          0.10960           0.15990          0.1974              0.12790   \n",
      "3          0.14250           0.28390          0.2414              0.10520   \n",
      "4          0.10030           0.13280          0.1980              0.10430   \n",
      "\n",
      "   ...  Radius_worst  Texture_worst  Perimeter_worst  Area_worst  \\\n",
      "0  ...         25.38          17.33           184.60      2019.0   \n",
      "1  ...         24.99          23.41           158.80      1956.0   \n",
      "2  ...         23.57          25.53           152.50      1709.0   \n",
      "3  ...         14.91          26.50            98.87       567.7   \n",
      "4  ...         22.54          16.67           152.20      1575.0   \n",
      "\n",
      "   Smoothness_worst  Compactness_worst  Concavity_worst  Concave_points_worst  \\\n",
      "0            0.1622             0.6656           0.7119                0.2654   \n",
      "1            0.1238             0.1866           0.2416                0.1860   \n",
      "2            0.1444             0.4245           0.4504                0.2430   \n",
      "3            0.2098             0.8663           0.6869                0.2575   \n",
      "4            0.1374             0.2050           0.4000                0.1625   \n",
      "\n",
      "   Symmetry_worst  Fractal_dimension_worst  \n",
      "0          0.4601                  0.11890  \n",
      "1          0.2750                  0.08902  \n",
      "2          0.3613                  0.08758  \n",
      "3          0.6638                  0.17300  \n",
      "4          0.2364                  0.07678  \n",
      "\n",
      "[5 rows x 32 columns]\n"
     ]
    }
   ],
   "source": [
    "import pandas as pd\n",
    "\n",
    "# Define column names as per UCI dataset description\n",
    "column_names = [\n",
    "    \"ID\", \"Diagnosis\", \"Radius_mean\", \"Texture_mean\", \"Perimeter_mean\", \"Area_mean\",\n",
    "    \"Smoothness_mean\", \"Compactness_mean\", \"Concavity_mean\", \"Concave_points_mean\",\n",
    "    \"Symmetry_mean\", \"Fractal_dimension_mean\", \"Radius_se\", \"Texture_se\", \"Perimeter_se\",\n",
    "    \"Area_se\", \"Smoothness_se\", \"Compactness_se\", \"Concavity_se\", \"Concave_points_se\",\n",
    "    \"Symmetry_se\", \"Fractal_dimension_se\", \"Radius_worst\", \"Texture_worst\", \"Perimeter_worst\",\n",
    "    \"Area_worst\", \"Smoothness_worst\", \"Compactness_worst\", \"Concavity_worst\",\n",
    "    \"Concave_points_worst\", \"Symmetry_worst\", \"Fractal_dimension_worst\"\n",
    "]\n",
    "\n",
    "# Load the dataset\n",
    "df = pd.read_csv(\"wdbc.data\", header=None, names=column_names)\n",
    "\n",
    "# Save to CSV with column names\n",
    "df.to_csv(\"breast_cancer_diagnostic.csv\", index=False)\n",
    "\n",
    "# Display the first few rows\n",
    "print(df.head())"
   ]
  },
  {
   "cell_type": "markdown",
   "id": "08b64c09-5410-455f-879e-7c7534587d53",
   "metadata": {},
   "source": [
    "# mRMR Feature Selection with Grid Search"
   ]
  },
  {
   "cell_type": "code",
   "execution_count": 18,
   "id": "1320460c-c5b4-46ce-bfe8-9fe059f83e53",
   "metadata": {},
   "outputs": [
    {
     "name": "stdout",
     "output_type": "stream",
     "text": [
      "\n",
      "Evaluating K=5...\n",
      "\n"
     ]
    },
    {
     "name": "stderr",
     "output_type": "stream",
     "text": [
      "100%|█████████████████████████████████████████████| 5/5 [00:00<00:00, 79.83it/s]"
     ]
    },
    {
     "name": "stdout",
     "output_type": "stream",
     "text": [
      "K=5, LR: CV Accuracy = 0.9385, Test Accuracy = 0.9737\n",
      "K=5, LDA: CV Accuracy = 0.9473, Test Accuracy = 0.9474\n",
      "K=5, KNN: CV Accuracy = 0.9451, Test Accuracy = 0.9649\n",
      "K=5, CART: CV Accuracy = 0.9451, Test Accuracy = 0.9298\n"
     ]
    },
    {
     "name": "stderr",
     "output_type": "stream",
     "text": [
      "\n"
     ]
    },
    {
     "name": "stdout",
     "output_type": "stream",
     "text": [
      "K=5, NB: CV Accuracy = 0.9429, Test Accuracy = 0.9474\n",
      "K=5, SVM: CV Accuracy = 0.9495, Test Accuracy = 0.9561\n",
      "\n",
      "Evaluating K=6...\n",
      "\n"
     ]
    },
    {
     "name": "stderr",
     "output_type": "stream",
     "text": [
      "100%|█████████████████████████████████████████████| 6/6 [00:00<00:00, 78.25it/s]"
     ]
    },
    {
     "name": "stdout",
     "output_type": "stream",
     "text": [
      "K=6, LR: CV Accuracy = 0.9429, Test Accuracy = 0.9737\n",
      "K=6, LDA: CV Accuracy = 0.9451, Test Accuracy = 0.9737\n"
     ]
    },
    {
     "name": "stderr",
     "output_type": "stream",
     "text": [
      "\n"
     ]
    },
    {
     "name": "stdout",
     "output_type": "stream",
     "text": [
      "K=6, KNN: CV Accuracy = 0.9429, Test Accuracy = 0.9649\n",
      "K=6, CART: CV Accuracy = 0.9385, Test Accuracy = 0.9386\n",
      "K=6, NB: CV Accuracy = 0.9429, Test Accuracy = 0.9474\n",
      "K=6, SVM: CV Accuracy = 0.9473, Test Accuracy = 0.9561\n",
      "\n",
      "Evaluating K=7...\n",
      "\n"
     ]
    },
    {
     "name": "stderr",
     "output_type": "stream",
     "text": [
      "100%|█████████████████████████████████████████████| 7/7 [00:00<00:00, 71.59it/s]\n"
     ]
    },
    {
     "name": "stdout",
     "output_type": "stream",
     "text": [
      "K=7, LR: CV Accuracy = 0.9473, Test Accuracy = 0.9737\n",
      "K=7, LDA: CV Accuracy = 0.9451, Test Accuracy = 0.9649\n",
      "K=7, KNN: CV Accuracy = 0.9451, Test Accuracy = 0.9649\n",
      "K=7, CART: CV Accuracy = 0.9341, Test Accuracy = 0.9298\n",
      "K=7, NB: CV Accuracy = 0.9407, Test Accuracy = 0.9561\n",
      "K=7, SVM: CV Accuracy = 0.9473, Test Accuracy = 0.9649\n",
      "\n",
      "Evaluating K=8...\n",
      "\n"
     ]
    },
    {
     "name": "stderr",
     "output_type": "stream",
     "text": [
      "100%|█████████████████████████████████████████████| 8/8 [00:00<00:00, 70.96it/s]\n"
     ]
    },
    {
     "name": "stdout",
     "output_type": "stream",
     "text": [
      "K=8, LR: CV Accuracy = 0.9473, Test Accuracy = 0.9737\n",
      "K=8, LDA: CV Accuracy = 0.9363, Test Accuracy = 0.9649\n",
      "K=8, KNN: CV Accuracy = 0.9407, Test Accuracy = 0.9649\n",
      "K=8, CART: CV Accuracy = 0.9275, Test Accuracy = 0.9386\n",
      "K=8, NB: CV Accuracy = 0.9363, Test Accuracy = 0.9737\n",
      "K=8, SVM: CV Accuracy = 0.9407, Test Accuracy = 0.9649\n",
      "\n",
      "Evaluating K=9...\n",
      "\n"
     ]
    },
    {
     "name": "stderr",
     "output_type": "stream",
     "text": [
      "100%|█████████████████████████████████████████████| 9/9 [00:00<00:00, 68.57it/s]\n"
     ]
    },
    {
     "name": "stdout",
     "output_type": "stream",
     "text": [
      "K=9, LR: CV Accuracy = 0.9495, Test Accuracy = 0.9737\n",
      "K=9, LDA: CV Accuracy = 0.9341, Test Accuracy = 0.9649\n",
      "K=9, KNN: CV Accuracy = 0.9319, Test Accuracy = 0.9737\n",
      "K=9, CART: CV Accuracy = 0.9407, Test Accuracy = 0.9123\n",
      "K=9, NB: CV Accuracy = 0.9385, Test Accuracy = 0.9649\n",
      "K=9, SVM: CV Accuracy = 0.9407, Test Accuracy = 0.9649\n",
      "\n",
      "Evaluating K=10...\n",
      "\n"
     ]
    },
    {
     "name": "stderr",
     "output_type": "stream",
     "text": [
      "100%|███████████████████████████████████████████| 10/10 [00:00<00:00, 65.66it/s]\n"
     ]
    },
    {
     "name": "stdout",
     "output_type": "stream",
     "text": [
      "K=10, LR: CV Accuracy = 0.9495, Test Accuracy = 0.9737\n",
      "K=10, LDA: CV Accuracy = 0.9363, Test Accuracy = 0.9561\n",
      "K=10, KNN: CV Accuracy = 0.9297, Test Accuracy = 0.9737\n",
      "K=10, CART: CV Accuracy = 0.9297, Test Accuracy = 0.9298\n",
      "K=10, NB: CV Accuracy = 0.9341, Test Accuracy = 0.9737\n",
      "K=10, SVM: CV Accuracy = 0.9407, Test Accuracy = 0.9649\n",
      "\n",
      "Evaluating K=11...\n",
      "\n"
     ]
    },
    {
     "name": "stderr",
     "output_type": "stream",
     "text": [
      "100%|███████████████████████████████████████████| 11/11 [00:00<00:00, 67.90it/s]\n"
     ]
    },
    {
     "name": "stdout",
     "output_type": "stream",
     "text": [
      "K=11, LR: CV Accuracy = 0.9473, Test Accuracy = 0.9737\n",
      "K=11, LDA: CV Accuracy = 0.9363, Test Accuracy = 0.9561\n",
      "K=11, KNN: CV Accuracy = 0.9363, Test Accuracy = 0.9737\n",
      "K=11, CART: CV Accuracy = 0.9275, Test Accuracy = 0.9123\n",
      "K=11, NB: CV Accuracy = 0.9297, Test Accuracy = 0.9649\n",
      "K=11, SVM: CV Accuracy = 0.9385, Test Accuracy = 0.9561\n",
      "\n",
      "Evaluating K=12...\n",
      "\n"
     ]
    },
    {
     "name": "stderr",
     "output_type": "stream",
     "text": [
      "100%|███████████████████████████████████████████| 12/12 [00:00<00:00, 58.32it/s]\n"
     ]
    },
    {
     "name": "stdout",
     "output_type": "stream",
     "text": [
      "K=12, LR: CV Accuracy = 0.9736, Test Accuracy = 0.9737\n",
      "K=12, LDA: CV Accuracy = 0.9516, Test Accuracy = 0.9474\n",
      "K=12, KNN: CV Accuracy = 0.9538, Test Accuracy = 0.9649\n",
      "K=12, CART: CV Accuracy = 0.9385, Test Accuracy = 0.9211\n",
      "K=12, NB: CV Accuracy = 0.9319, Test Accuracy = 0.9649\n",
      "K=12, SVM: CV Accuracy = 0.9758, Test Accuracy = 0.9649\n",
      "\n",
      "Evaluating K=13...\n",
      "\n"
     ]
    },
    {
     "name": "stderr",
     "output_type": "stream",
     "text": [
      "100%|███████████████████████████████████████████| 13/13 [00:00<00:00, 65.85it/s]\n"
     ]
    },
    {
     "name": "stdout",
     "output_type": "stream",
     "text": [
      "K=13, LR: CV Accuracy = 0.9736, Test Accuracy = 0.9737\n",
      "K=13, LDA: CV Accuracy = 0.9495, Test Accuracy = 0.9474\n",
      "K=13, KNN: CV Accuracy = 0.9582, Test Accuracy = 0.9561\n",
      "K=13, CART: CV Accuracy = 0.9385, Test Accuracy = 0.9298\n",
      "K=13, NB: CV Accuracy = 0.9319, Test Accuracy = 0.9649\n",
      "K=13, SVM: CV Accuracy = 0.9736, Test Accuracy = 0.9649\n",
      "\n",
      "Evaluating K=14...\n",
      "\n"
     ]
    },
    {
     "name": "stderr",
     "output_type": "stream",
     "text": [
      "100%|███████████████████████████████████████████| 14/14 [00:00<00:00, 65.83it/s]\n"
     ]
    },
    {
     "name": "stdout",
     "output_type": "stream",
     "text": [
      "K=14, LR: CV Accuracy = 0.9736, Test Accuracy = 0.9737\n",
      "K=14, LDA: CV Accuracy = 0.9495, Test Accuracy = 0.9649\n",
      "K=14, KNN: CV Accuracy = 0.9560, Test Accuracy = 0.9649\n",
      "K=14, CART: CV Accuracy = 0.9385, Test Accuracy = 0.9298\n",
      "K=14, NB: CV Accuracy = 0.9341, Test Accuracy = 0.9649\n",
      "K=14, SVM: CV Accuracy = 0.9692, Test Accuracy = 0.9649\n",
      "\n",
      "Evaluating K=15...\n",
      "\n"
     ]
    },
    {
     "name": "stderr",
     "output_type": "stream",
     "text": [
      "100%|███████████████████████████████████████████| 15/15 [00:00<00:00, 68.11it/s]\n"
     ]
    },
    {
     "name": "stdout",
     "output_type": "stream",
     "text": [
      "K=15, LR: CV Accuracy = 0.9780, Test Accuracy = 0.9737\n",
      "K=15, LDA: CV Accuracy = 0.9538, Test Accuracy = 0.9561\n",
      "K=15, KNN: CV Accuracy = 0.9626, Test Accuracy = 0.9649\n",
      "K=15, CART: CV Accuracy = 0.9385, Test Accuracy = 0.9298\n",
      "K=15, NB: CV Accuracy = 0.9341, Test Accuracy = 0.9649\n",
      "K=15, SVM: CV Accuracy = 0.9670, Test Accuracy = 0.9561\n",
      "\n",
      "Evaluating K=16...\n",
      "\n"
     ]
    },
    {
     "name": "stderr",
     "output_type": "stream",
     "text": [
      "100%|███████████████████████████████████████████| 16/16 [00:00<00:00, 68.30it/s]\n"
     ]
    },
    {
     "name": "stdout",
     "output_type": "stream",
     "text": [
      "K=16, LR: CV Accuracy = 0.9758, Test Accuracy = 0.9737\n",
      "K=16, LDA: CV Accuracy = 0.9538, Test Accuracy = 0.9561\n",
      "K=16, KNN: CV Accuracy = 0.9648, Test Accuracy = 0.9649\n",
      "K=16, CART: CV Accuracy = 0.9407, Test Accuracy = 0.9298\n",
      "K=16, NB: CV Accuracy = 0.9231, Test Accuracy = 0.9649\n",
      "K=16, SVM: CV Accuracy = 0.9692, Test Accuracy = 0.9561\n",
      "\n",
      "Evaluating K=17...\n",
      "\n"
     ]
    },
    {
     "name": "stderr",
     "output_type": "stream",
     "text": [
      "100%|███████████████████████████████████████████| 17/17 [00:00<00:00, 66.26it/s]\n"
     ]
    },
    {
     "name": "stdout",
     "output_type": "stream",
     "text": [
      "K=17, LR: CV Accuracy = 0.9758, Test Accuracy = 0.9825\n",
      "K=17, LDA: CV Accuracy = 0.9516, Test Accuracy = 0.9561\n",
      "K=17, KNN: CV Accuracy = 0.9648, Test Accuracy = 0.9649\n",
      "K=17, CART: CV Accuracy = 0.9385, Test Accuracy = 0.9035\n",
      "K=17, NB: CV Accuracy = 0.9253, Test Accuracy = 0.9649\n",
      "K=17, SVM: CV Accuracy = 0.9736, Test Accuracy = 0.9649\n",
      "\n",
      "Evaluating K=18...\n",
      "\n"
     ]
    },
    {
     "name": "stderr",
     "output_type": "stream",
     "text": [
      "100%|███████████████████████████████████████████| 18/18 [00:00<00:00, 71.53it/s]\n"
     ]
    },
    {
     "name": "stdout",
     "output_type": "stream",
     "text": [
      "K=18, LR: CV Accuracy = 0.9758, Test Accuracy = 0.9825\n",
      "K=18, LDA: CV Accuracy = 0.9516, Test Accuracy = 0.9561\n",
      "K=18, KNN: CV Accuracy = 0.9626, Test Accuracy = 0.9649\n",
      "K=18, CART: CV Accuracy = 0.9297, Test Accuracy = 0.9035\n",
      "K=18, NB: CV Accuracy = 0.9319, Test Accuracy = 0.9649\n",
      "K=18, SVM: CV Accuracy = 0.9780, Test Accuracy = 0.9649\n",
      "\n",
      "Evaluating K=19...\n",
      "\n"
     ]
    },
    {
     "name": "stderr",
     "output_type": "stream",
     "text": [
      "100%|███████████████████████████████████████████| 19/19 [00:00<00:00, 69.07it/s]\n"
     ]
    },
    {
     "name": "stdout",
     "output_type": "stream",
     "text": [
      "K=19, LR: CV Accuracy = 0.9758, Test Accuracy = 0.9825\n",
      "K=19, LDA: CV Accuracy = 0.9516, Test Accuracy = 0.9561\n",
      "K=19, KNN: CV Accuracy = 0.9626, Test Accuracy = 0.9649\n",
      "K=19, CART: CV Accuracy = 0.9297, Test Accuracy = 0.9123\n",
      "K=19, NB: CV Accuracy = 0.9297, Test Accuracy = 0.9649\n",
      "K=19, SVM: CV Accuracy = 0.9780, Test Accuracy = 0.9649\n",
      "\n",
      "Evaluating K=20...\n",
      "\n"
     ]
    },
    {
     "name": "stderr",
     "output_type": "stream",
     "text": [
      "100%|███████████████████████████████████████████| 20/20 [00:00<00:00, 65.36it/s]\n"
     ]
    },
    {
     "name": "stdout",
     "output_type": "stream",
     "text": [
      "K=20, LR: CV Accuracy = 0.9736, Test Accuracy = 0.9825\n",
      "K=20, LDA: CV Accuracy = 0.9538, Test Accuracy = 0.9561\n",
      "K=20, KNN: CV Accuracy = 0.9582, Test Accuracy = 0.9649\n",
      "K=20, CART: CV Accuracy = 0.9253, Test Accuracy = 0.9123\n",
      "K=20, NB: CV Accuracy = 0.9341, Test Accuracy = 0.9649\n",
      "K=20, SVM: CV Accuracy = 0.9758, Test Accuracy = 0.9649\n",
      "\n",
      "Evaluating K=21...\n",
      "\n"
     ]
    },
    {
     "name": "stderr",
     "output_type": "stream",
     "text": [
      "100%|███████████████████████████████████████████| 21/21 [00:00<00:00, 69.14it/s]\n"
     ]
    },
    {
     "name": "stdout",
     "output_type": "stream",
     "text": [
      "K=21, LR: CV Accuracy = 0.9714, Test Accuracy = 0.9825\n",
      "K=21, LDA: CV Accuracy = 0.9495, Test Accuracy = 0.9474\n",
      "K=21, KNN: CV Accuracy = 0.9538, Test Accuracy = 0.9649\n",
      "K=21, CART: CV Accuracy = 0.9319, Test Accuracy = 0.9211\n",
      "K=21, NB: CV Accuracy = 0.9341, Test Accuracy = 0.9649\n",
      "K=21, SVM: CV Accuracy = 0.9802, Test Accuracy = 0.9737\n",
      "\n",
      "Evaluating K=22...\n",
      "\n"
     ]
    },
    {
     "name": "stderr",
     "output_type": "stream",
     "text": [
      "100%|███████████████████████████████████████████| 22/22 [00:00<00:00, 68.55it/s]\n"
     ]
    },
    {
     "name": "stdout",
     "output_type": "stream",
     "text": [
      "K=22, LR: CV Accuracy = 0.9736, Test Accuracy = 0.9737\n",
      "K=22, LDA: CV Accuracy = 0.9516, Test Accuracy = 0.9474\n",
      "K=22, KNN: CV Accuracy = 0.9604, Test Accuracy = 0.9649\n",
      "K=22, CART: CV Accuracy = 0.9341, Test Accuracy = 0.9123\n",
      "K=22, NB: CV Accuracy = 0.9341, Test Accuracy = 0.9649\n",
      "K=22, SVM: CV Accuracy = 0.9780, Test Accuracy = 0.9737\n",
      "\n",
      "Evaluating K=23...\n",
      "\n"
     ]
    },
    {
     "name": "stderr",
     "output_type": "stream",
     "text": [
      "100%|███████████████████████████████████████████| 23/23 [00:00<00:00, 59.87it/s]\n"
     ]
    },
    {
     "name": "stdout",
     "output_type": "stream",
     "text": [
      "K=23, LR: CV Accuracy = 0.9714, Test Accuracy = 0.9737\n",
      "K=23, LDA: CV Accuracy = 0.9516, Test Accuracy = 0.9561\n",
      "K=23, KNN: CV Accuracy = 0.9582, Test Accuracy = 0.9649\n",
      "K=23, CART: CV Accuracy = 0.9297, Test Accuracy = 0.9211\n",
      "K=23, NB: CV Accuracy = 0.9275, Test Accuracy = 0.9649\n",
      "K=23, SVM: CV Accuracy = 0.9758, Test Accuracy = 0.9737\n",
      "\n",
      "Evaluating K=24...\n",
      "\n"
     ]
    },
    {
     "name": "stderr",
     "output_type": "stream",
     "text": [
      "100%|███████████████████████████████████████████| 24/24 [00:00<00:00, 46.84it/s]\n"
     ]
    },
    {
     "name": "stdout",
     "output_type": "stream",
     "text": [
      "K=24, LR: CV Accuracy = 0.9736, Test Accuracy = 0.9737\n",
      "K=24, LDA: CV Accuracy = 0.9538, Test Accuracy = 0.9561\n",
      "K=24, KNN: CV Accuracy = 0.9538, Test Accuracy = 0.9649\n",
      "K=24, CART: CV Accuracy = 0.9385, Test Accuracy = 0.9211\n",
      "K=24, NB: CV Accuracy = 0.9253, Test Accuracy = 0.9649\n",
      "K=24, SVM: CV Accuracy = 0.9758, Test Accuracy = 0.9737\n",
      "\n",
      "Evaluating K=25...\n",
      "\n"
     ]
    },
    {
     "name": "stderr",
     "output_type": "stream",
     "text": [
      "100%|███████████████████████████████████████████| 25/25 [00:00<00:00, 33.03it/s]\n"
     ]
    },
    {
     "name": "stdout",
     "output_type": "stream",
     "text": [
      "K=25, LR: CV Accuracy = 0.9758, Test Accuracy = 0.9737\n",
      "K=25, LDA: CV Accuracy = 0.9495, Test Accuracy = 0.9561\n",
      "K=25, KNN: CV Accuracy = 0.9560, Test Accuracy = 0.9649\n",
      "K=25, CART: CV Accuracy = 0.9275, Test Accuracy = 0.9211\n",
      "K=25, NB: CV Accuracy = 0.9253, Test Accuracy = 0.9649\n",
      "K=25, SVM: CV Accuracy = 0.9714, Test Accuracy = 0.9737\n",
      "\n",
      "Evaluating K=26...\n",
      "\n"
     ]
    },
    {
     "name": "stderr",
     "output_type": "stream",
     "text": [
      "100%|███████████████████████████████████████████| 26/26 [00:00<00:00, 29.13it/s]\n"
     ]
    },
    {
     "name": "stdout",
     "output_type": "stream",
     "text": [
      "K=26, LR: CV Accuracy = 0.9758, Test Accuracy = 0.9737\n",
      "K=26, LDA: CV Accuracy = 0.9516, Test Accuracy = 0.9561\n",
      "K=26, KNN: CV Accuracy = 0.9582, Test Accuracy = 0.9649\n",
      "K=26, CART: CV Accuracy = 0.9231, Test Accuracy = 0.9386\n",
      "K=26, NB: CV Accuracy = 0.9275, Test Accuracy = 0.9649\n",
      "K=26, SVM: CV Accuracy = 0.9736, Test Accuracy = 0.9649\n",
      "\n",
      "Evaluating K=27...\n",
      "\n"
     ]
    },
    {
     "name": "stderr",
     "output_type": "stream",
     "text": [
      "100%|███████████████████████████████████████████| 27/27 [00:01<00:00, 16.98it/s]\n"
     ]
    },
    {
     "name": "stdout",
     "output_type": "stream",
     "text": [
      "K=27, LR: CV Accuracy = 0.9758, Test Accuracy = 0.9737\n",
      "K=27, LDA: CV Accuracy = 0.9516, Test Accuracy = 0.9561\n",
      "K=27, KNN: CV Accuracy = 0.9582, Test Accuracy = 0.9649\n",
      "K=27, CART: CV Accuracy = 0.9187, Test Accuracy = 0.9386\n",
      "K=27, NB: CV Accuracy = 0.9297, Test Accuracy = 0.9649\n",
      "K=27, SVM: CV Accuracy = 0.9670, Test Accuracy = 0.9649\n",
      "\n",
      "🎯 Best Model: SVM with K=21\n",
      "📈 Best Cross-Validation Accuracy: 0.9802\n"
     ]
    }
   ],
   "source": [
    "import pandas as pd\n",
    "import numpy as np\n",
    "from sklearn.model_selection import train_test_split, cross_val_score\n",
    "from sklearn.linear_model import LogisticRegression\n",
    "from sklearn.discriminant_analysis import LinearDiscriminantAnalysis\n",
    "from sklearn.neighbors import KNeighborsClassifier\n",
    "from sklearn.tree import DecisionTreeClassifier\n",
    "from sklearn.naive_bayes import GaussianNB\n",
    "from sklearn.svm import SVC\n",
    "from sklearn.metrics import accuracy_score\n",
    "from mrmr import mrmr_classif\n",
    "from sklearn.base import BaseEstimator, TransformerMixin\n",
    "from sklearn.preprocessing import StandardScaler\n",
    "\n",
    "# ✅ Custom Transformer for mRMR Feature Selection\n",
    "class MRMRFeatureSelector(BaseEstimator, TransformerMixin):\n",
    "    def __init__(self, K=10):\n",
    "        self.K = K\n",
    "        self.selected_features = None\n",
    "\n",
    "    def fit(self, X, y):\n",
    "        if not isinstance(X, pd.DataFrame):  # Ensure X is a DataFrame\n",
    "            raise ValueError(\"X must be a Pandas DataFrame for mRMR\")\n",
    "        self.selected_features = mrmr_classif(X=X, y=y, K=self.K)\n",
    "        return self\n",
    "\n",
    "    def transform(self, X):\n",
    "        return X[self.selected_features]\n",
    "\n",
    "# ✅ Load Dataset\n",
    "X = df.iloc[:, 2:36]  # Features\n",
    "Y = df.iloc[:, 1]  # Target Variable\n",
    "\n",
    "# ✅ Train-Test Split\n",
    "X_train, X_test, y_train, y_test = train_test_split(X, Y, test_size=0.2, random_state=42)\n",
    "\n",
    "# ✅ Define Models\n",
    "models = [\n",
    "    ('LR', LogisticRegression(max_iter=1000)),\n",
    "    ('LDA', LinearDiscriminantAnalysis()),\n",
    "    ('KNN', KNeighborsClassifier()),\n",
    "    ('CART', DecisionTreeClassifier()),\n",
    "    ('NB', GaussianNB()),\n",
    "    ('SVM', SVC())\n",
    "]\n",
    "\n",
    "cv_folds = 5  # Use 5-fold cross-validation\n",
    "best_overall_score = 0\n",
    "best_K = None\n",
    "best_model_name = None\n",
    "\n",
    "# ✅ Iterate over K values from 5 to 27\n",
    "for K in range(5, 28):\n",
    "    print(f\"\\nEvaluating K={K}...\\n\")\n",
    "    \n",
    "    # Feature Selection\n",
    "    selector = MRMRFeatureSelector(K=K)\n",
    "    X_train_selected = selector.fit_transform(X_train, y_train)\n",
    "    X_test_selected = selector.transform(X_test)\n",
    "\n",
    "    # Standardize After Feature Selection\n",
    "    sc = StandardScaler()\n",
    "    X_train_selected = sc.fit_transform(X_train_selected)\n",
    "    X_test_selected = sc.transform(X_test_selected)\n",
    "\n",
    "    for name, model in models:\n",
    "        # Perform Cross-Validation\n",
    "        cv_scores = cross_val_score(model, X_train_selected, y_train, cv=cv_folds, scoring='accuracy')\n",
    "        mean_accuracy = np.mean(cv_scores)\n",
    "\n",
    "        # Train on full training set\n",
    "        model.fit(X_train_selected, y_train)\n",
    "        y_pred = model.predict(X_test_selected)\n",
    "        test_accuracy = accuracy_score(y_test, y_pred)\n",
    "\n",
    "        print(f\"K={K}, {name}: CV Accuracy = {mean_accuracy:.4f}, Test Accuracy = {test_accuracy:.4f}\")\n",
    "\n",
    "        # ✅ Track best-performing model\n",
    "        if mean_accuracy > best_overall_score:\n",
    "            best_overall_score = mean_accuracy\n",
    "            best_K = K\n",
    "            best_model_name = name\n",
    "\n",
    "# ✅ Final Results\n",
    "print(f\"\\n🎯 Best Model: {best_model_name} with K={best_K}\")\n",
    "print(f\"📈 Best Cross-Validation Accuracy: {best_overall_score:.4f}\")\n"
   ]
  },
  {
   "cell_type": "code",
   "execution_count": null,
   "id": "0a3fd2fa-b600-4419-ad72-f51685eeae36",
   "metadata": {},
   "outputs": [],
   "source": []
  }
 ],
 "metadata": {
  "kernelspec": {
   "display_name": "Python 3 (ipykernel)",
   "language": "python",
   "name": "python3"
  },
  "language_info": {
   "codemirror_mode": {
    "name": "ipython",
    "version": 3
   },
   "file_extension": ".py",
   "mimetype": "text/x-python",
   "name": "python",
   "nbconvert_exporter": "python",
   "pygments_lexer": "ipython3",
   "version": "3.10.12"
  }
 },
 "nbformat": 4,
 "nbformat_minor": 5
}
